{
  "cells": [
    {
      "cell_type": "markdown",
      "metadata": {
        "id": "xk_jIwGBDg8F"
      },
      "source": [
        "# handling missing values"
      ]
    },
    {
      "cell_type": "markdown",
      "metadata": {
        "id": "ssYt3pBwDg8M"
      },
      "source": [
        "- Removing the columns having missing values — If you have a column with more than 80% missing values, then it is better to drop the column.\n",
        "- Removing the rows having missing values — If you have a small percentage of rows with missing values, then you can just drop those rows.\n",
        "- Imputing the missing values — This is usually the preferred way of handling the missing values, especially where the missing values are not more than 80%."
      ]
    },
    {
      "cell_type": "code",
      "execution_count": 1,
      "metadata": {
        "id": "53NGbSlQDg8T"
      },
      "outputs": [],
      "source": [
        "import pandas as pd"
      ]
    },
    {
      "cell_type": "code",
      "execution_count": 2,
      "metadata": {
        "id": "LSlVGbqFDg8X"
      },
      "outputs": [],
      "source": [
        "df=pd.read_csv('/content/Melbourne_housing.csv')"
      ]
    },
    {
      "cell_type": "code",
      "execution_count": 3,
      "metadata": {
        "colab": {
          "base_uri": "https://localhost:8080/",
          "height": 360
        },
        "id": "wgZjPeVoDg8Z",
        "outputId": "9ccf71f0-8a22-4a5f-e31b-d8426717ce23"
      },
      "outputs": [
        {
          "output_type": "execute_result",
          "data": {
            "text/plain": [
              "       Suburb             Address  Rooms Type      Price Method SellerG  \\\n",
              "0  Abbotsford       68 Studley St      2    h        NaN     SS  Jellis   \n",
              "1  Abbotsford        85 Turner St      2    h  1480000.0      S  Biggin   \n",
              "2  Abbotsford     25 Bloomburg St      2    h  1035000.0      S  Biggin   \n",
              "3  Abbotsford  18/659 Victoria St      3    u        NaN     VB  Rounds   \n",
              "4  Abbotsford        5 Charles St      3    h  1465000.0     SP  Biggin   \n",
              "\n",
              "        Date  Distance  Postcode  ...  Bathroom  Car  Landsize  BuildingArea  \\\n",
              "0   3/9/2016       2.5    3067.0  ...       1.0  1.0     126.0           NaN   \n",
              "1  3/12/2016       2.5    3067.0  ...       1.0  1.0     202.0           NaN   \n",
              "2   4/2/2016       2.5    3067.0  ...       1.0  0.0     156.0          79.0   \n",
              "3   4/2/2016       2.5    3067.0  ...       2.0  1.0       0.0           NaN   \n",
              "4   4/3/2017       2.5    3067.0  ...       2.0  0.0     134.0         150.0   \n",
              "\n",
              "   YearBuilt         CouncilArea Lattitude  Longtitude             Regionname  \\\n",
              "0        NaN  Yarra City Council  -37.8014    144.9958  Northern Metropolitan   \n",
              "1        NaN  Yarra City Council  -37.7996    144.9984  Northern Metropolitan   \n",
              "2     1900.0  Yarra City Council  -37.8079    144.9934  Northern Metropolitan   \n",
              "3        NaN  Yarra City Council  -37.8114    145.0116  Northern Metropolitan   \n",
              "4     1900.0  Yarra City Council  -37.8093    144.9944  Northern Metropolitan   \n",
              "\n",
              "  Propertycount  \n",
              "0        4019.0  \n",
              "1        4019.0  \n",
              "2        4019.0  \n",
              "3        4019.0  \n",
              "4        4019.0  \n",
              "\n",
              "[5 rows x 21 columns]"
            ],
            "text/html": [
              "\n",
              "  <div id=\"df-ef97bc50-b533-4c9a-8cda-3510a5ecdaa3\" class=\"colab-df-container\">\n",
              "    <div>\n",
              "<style scoped>\n",
              "    .dataframe tbody tr th:only-of-type {\n",
              "        vertical-align: middle;\n",
              "    }\n",
              "\n",
              "    .dataframe tbody tr th {\n",
              "        vertical-align: top;\n",
              "    }\n",
              "\n",
              "    .dataframe thead th {\n",
              "        text-align: right;\n",
              "    }\n",
              "</style>\n",
              "<table border=\"1\" class=\"dataframe\">\n",
              "  <thead>\n",
              "    <tr style=\"text-align: right;\">\n",
              "      <th></th>\n",
              "      <th>Suburb</th>\n",
              "      <th>Address</th>\n",
              "      <th>Rooms</th>\n",
              "      <th>Type</th>\n",
              "      <th>Price</th>\n",
              "      <th>Method</th>\n",
              "      <th>SellerG</th>\n",
              "      <th>Date</th>\n",
              "      <th>Distance</th>\n",
              "      <th>Postcode</th>\n",
              "      <th>...</th>\n",
              "      <th>Bathroom</th>\n",
              "      <th>Car</th>\n",
              "      <th>Landsize</th>\n",
              "      <th>BuildingArea</th>\n",
              "      <th>YearBuilt</th>\n",
              "      <th>CouncilArea</th>\n",
              "      <th>Lattitude</th>\n",
              "      <th>Longtitude</th>\n",
              "      <th>Regionname</th>\n",
              "      <th>Propertycount</th>\n",
              "    </tr>\n",
              "  </thead>\n",
              "  <tbody>\n",
              "    <tr>\n",
              "      <th>0</th>\n",
              "      <td>Abbotsford</td>\n",
              "      <td>68 Studley St</td>\n",
              "      <td>2</td>\n",
              "      <td>h</td>\n",
              "      <td>NaN</td>\n",
              "      <td>SS</td>\n",
              "      <td>Jellis</td>\n",
              "      <td>3/9/2016</td>\n",
              "      <td>2.5</td>\n",
              "      <td>3067.0</td>\n",
              "      <td>...</td>\n",
              "      <td>1.0</td>\n",
              "      <td>1.0</td>\n",
              "      <td>126.0</td>\n",
              "      <td>NaN</td>\n",
              "      <td>NaN</td>\n",
              "      <td>Yarra City Council</td>\n",
              "      <td>-37.8014</td>\n",
              "      <td>144.9958</td>\n",
              "      <td>Northern Metropolitan</td>\n",
              "      <td>4019.0</td>\n",
              "    </tr>\n",
              "    <tr>\n",
              "      <th>1</th>\n",
              "      <td>Abbotsford</td>\n",
              "      <td>85 Turner St</td>\n",
              "      <td>2</td>\n",
              "      <td>h</td>\n",
              "      <td>1480000.0</td>\n",
              "      <td>S</td>\n",
              "      <td>Biggin</td>\n",
              "      <td>3/12/2016</td>\n",
              "      <td>2.5</td>\n",
              "      <td>3067.0</td>\n",
              "      <td>...</td>\n",
              "      <td>1.0</td>\n",
              "      <td>1.0</td>\n",
              "      <td>202.0</td>\n",
              "      <td>NaN</td>\n",
              "      <td>NaN</td>\n",
              "      <td>Yarra City Council</td>\n",
              "      <td>-37.7996</td>\n",
              "      <td>144.9984</td>\n",
              "      <td>Northern Metropolitan</td>\n",
              "      <td>4019.0</td>\n",
              "    </tr>\n",
              "    <tr>\n",
              "      <th>2</th>\n",
              "      <td>Abbotsford</td>\n",
              "      <td>25 Bloomburg St</td>\n",
              "      <td>2</td>\n",
              "      <td>h</td>\n",
              "      <td>1035000.0</td>\n",
              "      <td>S</td>\n",
              "      <td>Biggin</td>\n",
              "      <td>4/2/2016</td>\n",
              "      <td>2.5</td>\n",
              "      <td>3067.0</td>\n",
              "      <td>...</td>\n",
              "      <td>1.0</td>\n",
              "      <td>0.0</td>\n",
              "      <td>156.0</td>\n",
              "      <td>79.0</td>\n",
              "      <td>1900.0</td>\n",
              "      <td>Yarra City Council</td>\n",
              "      <td>-37.8079</td>\n",
              "      <td>144.9934</td>\n",
              "      <td>Northern Metropolitan</td>\n",
              "      <td>4019.0</td>\n",
              "    </tr>\n",
              "    <tr>\n",
              "      <th>3</th>\n",
              "      <td>Abbotsford</td>\n",
              "      <td>18/659 Victoria St</td>\n",
              "      <td>3</td>\n",
              "      <td>u</td>\n",
              "      <td>NaN</td>\n",
              "      <td>VB</td>\n",
              "      <td>Rounds</td>\n",
              "      <td>4/2/2016</td>\n",
              "      <td>2.5</td>\n",
              "      <td>3067.0</td>\n",
              "      <td>...</td>\n",
              "      <td>2.0</td>\n",
              "      <td>1.0</td>\n",
              "      <td>0.0</td>\n",
              "      <td>NaN</td>\n",
              "      <td>NaN</td>\n",
              "      <td>Yarra City Council</td>\n",
              "      <td>-37.8114</td>\n",
              "      <td>145.0116</td>\n",
              "      <td>Northern Metropolitan</td>\n",
              "      <td>4019.0</td>\n",
              "    </tr>\n",
              "    <tr>\n",
              "      <th>4</th>\n",
              "      <td>Abbotsford</td>\n",
              "      <td>5 Charles St</td>\n",
              "      <td>3</td>\n",
              "      <td>h</td>\n",
              "      <td>1465000.0</td>\n",
              "      <td>SP</td>\n",
              "      <td>Biggin</td>\n",
              "      <td>4/3/2017</td>\n",
              "      <td>2.5</td>\n",
              "      <td>3067.0</td>\n",
              "      <td>...</td>\n",
              "      <td>2.0</td>\n",
              "      <td>0.0</td>\n",
              "      <td>134.0</td>\n",
              "      <td>150.0</td>\n",
              "      <td>1900.0</td>\n",
              "      <td>Yarra City Council</td>\n",
              "      <td>-37.8093</td>\n",
              "      <td>144.9944</td>\n",
              "      <td>Northern Metropolitan</td>\n",
              "      <td>4019.0</td>\n",
              "    </tr>\n",
              "  </tbody>\n",
              "</table>\n",
              "<p>5 rows × 21 columns</p>\n",
              "</div>\n",
              "    <div class=\"colab-df-buttons\">\n",
              "\n",
              "  <div class=\"colab-df-container\">\n",
              "    <button class=\"colab-df-convert\" onclick=\"convertToInteractive('df-ef97bc50-b533-4c9a-8cda-3510a5ecdaa3')\"\n",
              "            title=\"Convert this dataframe to an interactive table.\"\n",
              "            style=\"display:none;\">\n",
              "\n",
              "  <svg xmlns=\"http://www.w3.org/2000/svg\" height=\"24px\" viewBox=\"0 -960 960 960\">\n",
              "    <path d=\"M120-120v-720h720v720H120Zm60-500h600v-160H180v160Zm220 220h160v-160H400v160Zm0 220h160v-160H400v160ZM180-400h160v-160H180v160Zm440 0h160v-160H620v160ZM180-180h160v-160H180v160Zm440 0h160v-160H620v160Z\"/>\n",
              "  </svg>\n",
              "    </button>\n",
              "\n",
              "  <style>\n",
              "    .colab-df-container {\n",
              "      display:flex;\n",
              "      gap: 12px;\n",
              "    }\n",
              "\n",
              "    .colab-df-convert {\n",
              "      background-color: #E8F0FE;\n",
              "      border: none;\n",
              "      border-radius: 50%;\n",
              "      cursor: pointer;\n",
              "      display: none;\n",
              "      fill: #1967D2;\n",
              "      height: 32px;\n",
              "      padding: 0 0 0 0;\n",
              "      width: 32px;\n",
              "    }\n",
              "\n",
              "    .colab-df-convert:hover {\n",
              "      background-color: #E2EBFA;\n",
              "      box-shadow: 0px 1px 2px rgba(60, 64, 67, 0.3), 0px 1px 3px 1px rgba(60, 64, 67, 0.15);\n",
              "      fill: #174EA6;\n",
              "    }\n",
              "\n",
              "    .colab-df-buttons div {\n",
              "      margin-bottom: 4px;\n",
              "    }\n",
              "\n",
              "    [theme=dark] .colab-df-convert {\n",
              "      background-color: #3B4455;\n",
              "      fill: #D2E3FC;\n",
              "    }\n",
              "\n",
              "    [theme=dark] .colab-df-convert:hover {\n",
              "      background-color: #434B5C;\n",
              "      box-shadow: 0px 1px 3px 1px rgba(0, 0, 0, 0.15);\n",
              "      filter: drop-shadow(0px 1px 2px rgba(0, 0, 0, 0.3));\n",
              "      fill: #FFFFFF;\n",
              "    }\n",
              "  </style>\n",
              "\n",
              "    <script>\n",
              "      const buttonEl =\n",
              "        document.querySelector('#df-ef97bc50-b533-4c9a-8cda-3510a5ecdaa3 button.colab-df-convert');\n",
              "      buttonEl.style.display =\n",
              "        google.colab.kernel.accessAllowed ? 'block' : 'none';\n",
              "\n",
              "      async function convertToInteractive(key) {\n",
              "        const element = document.querySelector('#df-ef97bc50-b533-4c9a-8cda-3510a5ecdaa3');\n",
              "        const dataTable =\n",
              "          await google.colab.kernel.invokeFunction('convertToInteractive',\n",
              "                                                    [key], {});\n",
              "        if (!dataTable) return;\n",
              "\n",
              "        const docLinkHtml = 'Like what you see? Visit the ' +\n",
              "          '<a target=\"_blank\" href=https://colab.research.google.com/notebooks/data_table.ipynb>data table notebook</a>'\n",
              "          + ' to learn more about interactive tables.';\n",
              "        element.innerHTML = '';\n",
              "        dataTable['output_type'] = 'display_data';\n",
              "        await google.colab.output.renderOutput(dataTable, element);\n",
              "        const docLink = document.createElement('div');\n",
              "        docLink.innerHTML = docLinkHtml;\n",
              "        element.appendChild(docLink);\n",
              "      }\n",
              "    </script>\n",
              "  </div>\n",
              "\n",
              "\n",
              "<div id=\"df-b10303f5-3986-42e2-b49b-e853eb9e9f4e\">\n",
              "  <button class=\"colab-df-quickchart\" onclick=\"quickchart('df-b10303f5-3986-42e2-b49b-e853eb9e9f4e')\"\n",
              "            title=\"Suggest charts.\"\n",
              "            style=\"display:none;\">\n",
              "\n",
              "<svg xmlns=\"http://www.w3.org/2000/svg\" height=\"24px\"viewBox=\"0 0 24 24\"\n",
              "     width=\"24px\">\n",
              "    <g>\n",
              "        <path d=\"M19 3H5c-1.1 0-2 .9-2 2v14c0 1.1.9 2 2 2h14c1.1 0 2-.9 2-2V5c0-1.1-.9-2-2-2zM9 17H7v-7h2v7zm4 0h-2V7h2v10zm4 0h-2v-4h2v4z\"/>\n",
              "    </g>\n",
              "</svg>\n",
              "  </button>\n",
              "\n",
              "<style>\n",
              "  .colab-df-quickchart {\n",
              "      --bg-color: #E8F0FE;\n",
              "      --fill-color: #1967D2;\n",
              "      --hover-bg-color: #E2EBFA;\n",
              "      --hover-fill-color: #174EA6;\n",
              "      --disabled-fill-color: #AAA;\n",
              "      --disabled-bg-color: #DDD;\n",
              "  }\n",
              "\n",
              "  [theme=dark] .colab-df-quickchart {\n",
              "      --bg-color: #3B4455;\n",
              "      --fill-color: #D2E3FC;\n",
              "      --hover-bg-color: #434B5C;\n",
              "      --hover-fill-color: #FFFFFF;\n",
              "      --disabled-bg-color: #3B4455;\n",
              "      --disabled-fill-color: #666;\n",
              "  }\n",
              "\n",
              "  .colab-df-quickchart {\n",
              "    background-color: var(--bg-color);\n",
              "    border: none;\n",
              "    border-radius: 50%;\n",
              "    cursor: pointer;\n",
              "    display: none;\n",
              "    fill: var(--fill-color);\n",
              "    height: 32px;\n",
              "    padding: 0;\n",
              "    width: 32px;\n",
              "  }\n",
              "\n",
              "  .colab-df-quickchart:hover {\n",
              "    background-color: var(--hover-bg-color);\n",
              "    box-shadow: 0 1px 2px rgba(60, 64, 67, 0.3), 0 1px 3px 1px rgba(60, 64, 67, 0.15);\n",
              "    fill: var(--button-hover-fill-color);\n",
              "  }\n",
              "\n",
              "  .colab-df-quickchart-complete:disabled,\n",
              "  .colab-df-quickchart-complete:disabled:hover {\n",
              "    background-color: var(--disabled-bg-color);\n",
              "    fill: var(--disabled-fill-color);\n",
              "    box-shadow: none;\n",
              "  }\n",
              "\n",
              "  .colab-df-spinner {\n",
              "    border: 2px solid var(--fill-color);\n",
              "    border-color: transparent;\n",
              "    border-bottom-color: var(--fill-color);\n",
              "    animation:\n",
              "      spin 1s steps(1) infinite;\n",
              "  }\n",
              "\n",
              "  @keyframes spin {\n",
              "    0% {\n",
              "      border-color: transparent;\n",
              "      border-bottom-color: var(--fill-color);\n",
              "      border-left-color: var(--fill-color);\n",
              "    }\n",
              "    20% {\n",
              "      border-color: transparent;\n",
              "      border-left-color: var(--fill-color);\n",
              "      border-top-color: var(--fill-color);\n",
              "    }\n",
              "    30% {\n",
              "      border-color: transparent;\n",
              "      border-left-color: var(--fill-color);\n",
              "      border-top-color: var(--fill-color);\n",
              "      border-right-color: var(--fill-color);\n",
              "    }\n",
              "    40% {\n",
              "      border-color: transparent;\n",
              "      border-right-color: var(--fill-color);\n",
              "      border-top-color: var(--fill-color);\n",
              "    }\n",
              "    60% {\n",
              "      border-color: transparent;\n",
              "      border-right-color: var(--fill-color);\n",
              "    }\n",
              "    80% {\n",
              "      border-color: transparent;\n",
              "      border-right-color: var(--fill-color);\n",
              "      border-bottom-color: var(--fill-color);\n",
              "    }\n",
              "    90% {\n",
              "      border-color: transparent;\n",
              "      border-bottom-color: var(--fill-color);\n",
              "    }\n",
              "  }\n",
              "</style>\n",
              "\n",
              "  <script>\n",
              "    async function quickchart(key) {\n",
              "      const quickchartButtonEl =\n",
              "        document.querySelector('#' + key + ' button');\n",
              "      quickchartButtonEl.disabled = true;  // To prevent multiple clicks.\n",
              "      quickchartButtonEl.classList.add('colab-df-spinner');\n",
              "      try {\n",
              "        const charts = await google.colab.kernel.invokeFunction(\n",
              "            'suggestCharts', [key], {});\n",
              "      } catch (error) {\n",
              "        console.error('Error during call to suggestCharts:', error);\n",
              "      }\n",
              "      quickchartButtonEl.classList.remove('colab-df-spinner');\n",
              "      quickchartButtonEl.classList.add('colab-df-quickchart-complete');\n",
              "    }\n",
              "    (() => {\n",
              "      let quickchartButtonEl =\n",
              "        document.querySelector('#df-b10303f5-3986-42e2-b49b-e853eb9e9f4e button');\n",
              "      quickchartButtonEl.style.display =\n",
              "        google.colab.kernel.accessAllowed ? 'block' : 'none';\n",
              "    })();\n",
              "  </script>\n",
              "</div>\n",
              "    </div>\n",
              "  </div>\n"
            ]
          },
          "metadata": {},
          "execution_count": 3
        }
      ],
      "source": [
        "df.head()"
      ]
    },
    {
      "cell_type": "code",
      "execution_count": 4,
      "metadata": {
        "colab": {
          "base_uri": "https://localhost:8080/"
        },
        "id": "EpxyGQ_lDg8a",
        "outputId": "668a9aed-a92b-41ef-af71-bde3f53d765b"
      },
      "outputs": [
        {
          "output_type": "execute_result",
          "data": {
            "text/plain": [
              "(34857, 21)"
            ]
          },
          "metadata": {},
          "execution_count": 4
        }
      ],
      "source": [
        "df.shape"
      ]
    },
    {
      "cell_type": "markdown",
      "metadata": {
        "id": "vy2HfEGNDg8c"
      },
      "source": [
        "- rows=> 34857\n",
        "- columns=> 21"
      ]
    },
    {
      "cell_type": "code",
      "execution_count": 5,
      "metadata": {
        "colab": {
          "base_uri": "https://localhost:8080/"
        },
        "id": "uWKdoR7YDg8d",
        "outputId": "13a4629b-9772-4611-fec8-dccbdeda33ee"
      },
      "outputs": [
        {
          "output_type": "stream",
          "name": "stdout",
          "text": [
            "<class 'pandas.core.frame.DataFrame'>\n",
            "RangeIndex: 34857 entries, 0 to 34856\n",
            "Data columns (total 21 columns):\n",
            " #   Column         Non-Null Count  Dtype  \n",
            "---  ------         --------------  -----  \n",
            " 0   Suburb         34857 non-null  object \n",
            " 1   Address        34857 non-null  object \n",
            " 2   Rooms          34857 non-null  int64  \n",
            " 3   Type           34857 non-null  object \n",
            " 4   Price          27247 non-null  float64\n",
            " 5   Method         34857 non-null  object \n",
            " 6   SellerG        34857 non-null  object \n",
            " 7   Date           34857 non-null  object \n",
            " 8   Distance       34856 non-null  float64\n",
            " 9   Postcode       34856 non-null  float64\n",
            " 10  Bedroom2       26640 non-null  float64\n",
            " 11  Bathroom       26631 non-null  float64\n",
            " 12  Car            26129 non-null  float64\n",
            " 13  Landsize       23047 non-null  float64\n",
            " 14  BuildingArea   13742 non-null  float64\n",
            " 15  YearBuilt      15551 non-null  float64\n",
            " 16  CouncilArea    34854 non-null  object \n",
            " 17  Lattitude      26881 non-null  float64\n",
            " 18  Longtitude     26881 non-null  float64\n",
            " 19  Regionname     34854 non-null  object \n",
            " 20  Propertycount  34854 non-null  float64\n",
            "dtypes: float64(12), int64(1), object(8)\n",
            "memory usage: 5.6+ MB\n"
          ]
        }
      ],
      "source": [
        "df.info()"
      ]
    },
    {
      "cell_type": "markdown",
      "metadata": {
        "id": "0K9tO_CXDg8f"
      },
      "source": [
        "## Functions for checking missing values\n",
        "- The isnull() function is used for checking the missing values.\n",
        "- The result is usually boolean values of True and False.\n",
        "- Missing values get mapped to True\n",
        "- Non-missing values get mapped to False"
      ]
    },
    {
      "cell_type": "code",
      "execution_count": 6,
      "metadata": {
        "colab": {
          "base_uri": "https://localhost:8080/"
        },
        "id": "gT-PUmz6Dg8g",
        "outputId": "34fd0a0d-7154-4406-9259-9488aab85fa4"
      },
      "outputs": [
        {
          "output_type": "execute_result",
          "data": {
            "text/plain": [
              "Suburb               0\n",
              "Address              0\n",
              "Rooms                0\n",
              "Type                 0\n",
              "Price             7610\n",
              "Method               0\n",
              "SellerG              0\n",
              "Date                 0\n",
              "Distance             1\n",
              "Postcode             1\n",
              "Bedroom2          8217\n",
              "Bathroom          8226\n",
              "Car               8728\n",
              "Landsize         11810\n",
              "BuildingArea     21115\n",
              "YearBuilt        19306\n",
              "CouncilArea          3\n",
              "Lattitude         7976\n",
              "Longtitude        7976\n",
              "Regionname           3\n",
              "Propertycount        3\n",
              "dtype: int64"
            ]
          },
          "metadata": {},
          "execution_count": 6
        }
      ],
      "source": [
        "df.isnull().sum()"
      ]
    },
    {
      "cell_type": "code",
      "execution_count": 7,
      "metadata": {
        "colab": {
          "base_uri": "https://localhost:8080/",
          "height": 516
        },
        "id": "G8fEtXtUDg8h",
        "outputId": "ee236cfc-c654-434d-b702-eb1748830ad1"
      },
      "outputs": [
        {
          "output_type": "display_data",
          "data": {
            "text/plain": [
              "<Figure size 1200x500 with 3 Axes>"
            ],
            "image/png": "[encoded data removed]"
          },
          "metadata": {}
        }
      ],
      "source": [
        "#missing values by bar graph\n",
        "import missingno\n",
        "missingno.bar(df, color='dodgerblue', sort='ascending', figsize=(12,5),fontsize=12);"
      ]
    },
    {
      "cell_type": "code",
      "execution_count": 8,
      "metadata": {
        "colab": {
          "base_uri": "https://localhost:8080/",
          "height": 489
        },
        "id": "Cjph6_7zDg8i",
        "outputId": "d385951f-08a7-4473-ddf4-e009f877a2d5"
      },
      "outputs": [
        {
          "output_type": "display_data",
          "data": {
            "text/plain": [
              "<Figure size 1200x500 with 2 Axes>"
            ],
            "image/png": "[encoded data removed]"
          },
          "metadata": {}
        }
      ],
      "source": [
        "#missing values by matrix white space shows missing value\n",
        "import missingno\n",
        "missingno.matrix(df, color=(1,0.38,0.27),figsize=(12,5),fontsize=12);"
      ]
    },
    {
      "cell_type": "markdown",
      "metadata": {
        "id": "Pvk1HEqFDg8j"
      },
      "source": [
        "#  1. Deleting Rows with missing Data"
      ]
    },
    {
      "cell_type": "markdown",
      "metadata": {
        "id": "NCpxRevPDg8k"
      },
      "source": [
        "If the record contains a few missing values, we can drop all the rows having any missing values."
      ]
    },
    {
      "cell_type": "code",
      "execution_count": 9,
      "metadata": {
        "id": "jOdtwjfkDg8k"
      },
      "outputs": [],
      "source": [
        "df1=df.dropna(axis=0)"
      ]
    },
    {
      "cell_type": "code",
      "execution_count": 10,
      "metadata": {
        "colab": {
          "base_uri": "https://localhost:8080/"
        },
        "id": "wBFKfrrvDg8m",
        "outputId": "c5e1aab3-33ae-489f-edec-d0eb59c938c3"
      },
      "outputs": [
        {
          "output_type": "execute_result",
          "data": {
            "text/plain": [
              "(8887, 21)"
            ]
          },
          "metadata": {},
          "execution_count": 10
        }
      ],
      "source": [
        "df1.shape"
      ]
    },
    {
      "cell_type": "markdown",
      "metadata": {
        "id": "XnDK0YWNDg8n"
      },
      "source": [
        "<div class=\"alert alert-block alert-info\">\n",
        "<b>NOTE:</b>You can see the result above has deleted a lot of rows and hence , this is not the best way to handle our missing values in this dataset\n",
        "</div>\n"
      ]
    },
    {
      "cell_type": "markdown",
      "metadata": {
        "id": "FJx1nwfDDg8n"
      },
      "source": [
        "# 2. Deleting Columns with missing Data"
      ]
    },
    {
      "cell_type": "code",
      "execution_count": 11,
      "metadata": {
        "id": "t2ocvH_ODg8o"
      },
      "outputs": [],
      "source": [
        "# dropping all columns with missing values by specifying axis=1(Not the best option)\n",
        "df2=df.dropna(axis=1)"
      ]
    },
    {
      "cell_type": "code",
      "execution_count": 12,
      "metadata": {
        "colab": {
          "base_uri": "https://localhost:8080/"
        },
        "id": "jbxrOYmODg8p",
        "outputId": "50a8ee2d-ee8e-47e4-e8d6-4d9126c77324"
      },
      "outputs": [
        {
          "output_type": "execute_result",
          "data": {
            "text/plain": [
              "Suburb     0\n",
              "Address    0\n",
              "Rooms      0\n",
              "Type       0\n",
              "Method     0\n",
              "SellerG    0\n",
              "Date       0\n",
              "dtype: int64"
            ]
          },
          "metadata": {},
          "execution_count": 12
        }
      ],
      "source": [
        "df2.isnull().sum()"
      ]
    },
    {
      "cell_type": "code",
      "execution_count": 13,
      "metadata": {
        "colab": {
          "base_uri": "https://localhost:8080/"
        },
        "id": "KCxNrSx6Dg8q",
        "outputId": "b43289e9-b37a-40eb-8d46-b13e9559b2b6"
      },
      "outputs": [
        {
          "output_type": "execute_result",
          "data": {
            "text/plain": [
              "(34857, 7)"
            ]
          },
          "metadata": {},
          "execution_count": 13
        }
      ],
      "source": [
        "df2.shape"
      ]
    },
    {
      "cell_type": "markdown",
      "metadata": {
        "id": "fcEYJHBdDg8q"
      },
      "source": [
        "<div class=\"alert alert-block alert-info\">\n",
        "<b>NOTE:</b>You can see the result above has deleted 14 columns and hence , this is not the best way to handle our missing values in this dataset\n",
        "</div>"
      ]
    },
    {
      "cell_type": "markdown",
      "metadata": {
        "id": "yudz6ULbDg8r"
      },
      "source": [
        "## dropping columns by specifying threshold"
      ]
    },
    {
      "cell_type": "markdown",
      "metadata": {
        "id": "3Ox69aPJDg8s"
      },
      "source": [
        "Calculating the percentage of values is usually\n",
        "\n",
        "Percentage= (Value / Total Value)×100\n",
        "\n",
        "- value = df.isnull().sum()\n",
        "- total value = len(df)"
      ]
    },
    {
      "cell_type": "code",
      "execution_count": 14,
      "metadata": {
        "id": "ASI0Or1ADg8t"
      },
      "outputs": [],
      "source": [
        "percentage_missing = df.isnull().sum()/len(df)*100"
      ]
    },
    {
      "cell_type": "code",
      "execution_count": 15,
      "metadata": {
        "colab": {
          "base_uri": "https://localhost:8080/"
        },
        "id": "O46HEt2LDg8u",
        "outputId": "bdb2371c-8667-4119-d0d1-017b287c943d"
      },
      "outputs": [
        {
          "output_type": "execute_result",
          "data": {
            "text/plain": [
              "Suburb            0.000000\n",
              "Address           0.000000\n",
              "Rooms             0.000000\n",
              "Type              0.000000\n",
              "Price            21.832057\n",
              "Method            0.000000\n",
              "SellerG           0.000000\n",
              "Date              0.000000\n",
              "Distance          0.002869\n",
              "Postcode          0.002869\n",
              "Bedroom2         23.573457\n",
              "Bathroom         23.599277\n",
              "Car              25.039447\n",
              "Landsize         33.881286\n",
              "BuildingArea     60.576068\n",
              "YearBuilt        55.386293\n",
              "CouncilArea       0.008607\n",
              "Lattitude        22.882061\n",
              "Longtitude       22.882061\n",
              "Regionname        0.008607\n",
              "Propertycount     0.008607\n",
              "dtype: float64"
            ]
          },
          "metadata": {},
          "execution_count": 15
        }
      ],
      "source": [
        "#it will print the percentage of null values in columns\n",
        "percentage_missing"
      ]
    },
    {
      "cell_type": "code",
      "execution_count": 16,
      "metadata": {
        "id": "qtEj8jorDg8v"
      },
      "outputs": [],
      "source": [
        "#so we will drop the columns having null is grether than 55%\n",
        "to_drop =percentage_missing[percentage_missing>55].keys()"
      ]
    },
    {
      "cell_type": "code",
      "execution_count": 17,
      "metadata": {
        "colab": {
          "base_uri": "https://localhost:8080/"
        },
        "id": "o1-yXfh5Dg8w",
        "outputId": "39d4f2a0-3a16-4942-e9ec-580e33ec4549"
      },
      "outputs": [
        {
          "output_type": "execute_result",
          "data": {
            "text/plain": [
              "Index(['BuildingArea', 'YearBuilt'], dtype='object')"
            ]
          },
          "metadata": {},
          "execution_count": 17
        }
      ],
      "source": [
        "#these two columns having null value greather than 55%\n",
        "to_drop"
      ]
    },
    {
      "cell_type": "code",
      "execution_count": 18,
      "metadata": {
        "id": "aDtpEAKJDg8w"
      },
      "outputs": [],
      "source": [
        " df.drop(to_drop, axis=1,inplace=True)"
      ]
    },
    {
      "cell_type": "code",
      "execution_count": 19,
      "metadata": {
        "colab": {
          "base_uri": "https://localhost:8080/"
        },
        "id": "7fwzuoigDg8x",
        "outputId": "264802e9-5b3d-4206-d576-63d36d217004"
      },
      "outputs": [
        {
          "output_type": "execute_result",
          "data": {
            "text/plain": [
              "Suburb               0\n",
              "Address              0\n",
              "Rooms                0\n",
              "Type                 0\n",
              "Price             7610\n",
              "Method               0\n",
              "SellerG              0\n",
              "Date                 0\n",
              "Distance             1\n",
              "Postcode             1\n",
              "Bedroom2          8217\n",
              "Bathroom          8226\n",
              "Car               8728\n",
              "Landsize         11810\n",
              "CouncilArea          3\n",
              "Lattitude         7976\n",
              "Longtitude        7976\n",
              "Regionname           3\n",
              "Propertycount        3\n",
              "dtype: int64"
            ]
          },
          "metadata": {},
          "execution_count": 19
        }
      ],
      "source": [
        "df.isnull().sum()"
      ]
    },
    {
      "cell_type": "code",
      "execution_count": 20,
      "metadata": {
        "colab": {
          "base_uri": "https://localhost:8080/"
        },
        "id": "5aCWWhPYDg8y",
        "outputId": "36fa7a20-6e78-4da6-a336-c5cc077108cf"
      },
      "outputs": [
        {
          "output_type": "execute_result",
          "data": {
            "text/plain": [
              "(34857, 19)"
            ]
          },
          "metadata": {},
          "execution_count": 20
        }
      ],
      "source": [
        "#two columns are drop from data\n",
        "df.shape"
      ]
    },
    {
      "cell_type": "markdown",
      "metadata": {
        "id": "WpccH1LyDg8y"
      },
      "source": [
        "BuildingArea and YearBuilt have been dropped"
      ]
    },
    {
      "cell_type": "markdown",
      "metadata": {
        "id": "NjwCHASIDg8z"
      },
      "source": [
        "# 3. Replacing Missing Data with mean, mode or median using fillna function"
      ]
    },
    {
      "cell_type": "markdown",
      "metadata": {
        "id": "gDO4fABdDg8z"
      },
      "source": [
        "- Mean - The average value\n",
        "- Mode - The most common value\n",
        "- Median - The mid point value\n",
        "\n",
        ">>we can fill value in null columns"
      ]
    },
    {
      "cell_type": "code",
      "execution_count": 21,
      "metadata": {
        "id": "bZoWI3b4Dg80"
      },
      "outputs": [],
      "source": [
        "# Replace missing values in Price with Mean\n",
        "df['Price'].fillna(df['Price'].mean(), inplace=True)"
      ]
    },
    {
      "cell_type": "code",
      "execution_count": 22,
      "metadata": {
        "id": "gcnDoFRnDg81"
      },
      "outputs": [],
      "source": [
        "# Replace missing values in Bedroom2 with Mode\n",
        "df['Bedroom2'].fillna(df['Bedroom2'].mode()[0],inplace=True)"
      ]
    },
    {
      "cell_type": "code",
      "execution_count": 23,
      "metadata": {
        "id": "cbzRaoFTDg82"
      },
      "outputs": [],
      "source": [
        "# Replace missing values in Car with Median\n",
        "df['Car'].fillna(df['Car'].median(),inplace=True)"
      ]
    },
    {
      "cell_type": "code",
      "execution_count": 24,
      "metadata": {
        "id": "ndAjBrtkDg82"
      },
      "outputs": [],
      "source": [
        "# specifying a value directly\n",
        "df['Propertycount'].fillna(value=0,inplace=True)"
      ]
    },
    {
      "cell_type": "code",
      "execution_count": 25,
      "metadata": {
        "colab": {
          "base_uri": "https://localhost:8080/"
        },
        "id": "H3A7Z2-wDg83",
        "outputId": "01b617e6-bef9-4290-d286-e2a6eaf6d376"
      },
      "outputs": [
        {
          "output_type": "execute_result",
          "data": {
            "text/plain": [
              "Suburb               0\n",
              "Address              0\n",
              "Rooms                0\n",
              "Type                 0\n",
              "Price                0\n",
              "Method               0\n",
              "SellerG              0\n",
              "Date                 0\n",
              "Distance             1\n",
              "Postcode             1\n",
              "Bedroom2             0\n",
              "Bathroom          8226\n",
              "Car                  0\n",
              "Landsize         11810\n",
              "CouncilArea          3\n",
              "Lattitude         7976\n",
              "Longtitude        7976\n",
              "Regionname           3\n",
              "Propertycount        0\n",
              "dtype: int64"
            ]
          },
          "metadata": {},
          "execution_count": 25
        }
      ],
      "source": [
        "df.isnull().sum()"
      ]
    },
    {
      "cell_type": "markdown",
      "metadata": {
        "id": "fDNjz4dLDg9K"
      },
      "source": [
        "# 4. Replacing Missing values using Sklearn Impute(Categorical data)"
      ]
    },
    {
      "cell_type": "code",
      "execution_count": 26,
      "metadata": {
        "id": "V4dK2W5pDg9L"
      },
      "outputs": [],
      "source": [
        "from sklearn.impute import SimpleImputer\n",
        "import numpy as np"
      ]
    },
    {
      "cell_type": "markdown",
      "metadata": {
        "id": "p7GzOjsbDg9L"
      },
      "source": [
        "<div class=\"alert alert-block alert-info\">\n",
        "<b>NOTE: </b>if the below code give value error then run your code in \"google colab\"\n",
        "</div>\n"
      ]
    },
    {
      "cell_type": "code",
      "execution_count": 27,
      "metadata": {
        "scrolled": true,
        "id": "eohy4SQIDg9M"
      },
      "outputs": [],
      "source": [
        "# replacing missing values for region with the most frequent value\n",
        "\n",
        "imp_mode = SimpleImputer(missing_values=np.nan,strategy='most_frequent')\n",
        "\n",
        "df['Regionname']= imp_mode.fit_transform(df[['Regionname']])"
      ]
    },
    {
      "cell_type": "code",
      "execution_count": 28,
      "metadata": {
        "id": "wO8YAczhDg9N"
      },
      "outputs": [],
      "source": [
        "# replacing missing values in councilarea with value other\n",
        "\n",
        "\n",
        "imp_mode = SimpleImputer(strategy='constant', fill_value='other')\n",
        "\n",
        "\n",
        "df['CouncilArea']= imp_mode.fit_transform(df[['CouncilArea']])\n",
        "\n"
      ]
    },
    {
      "cell_type": "code",
      "execution_count": 29,
      "metadata": {
        "colab": {
          "base_uri": "https://localhost:8080/"
        },
        "id": "3-3qwGV1Dg9P",
        "outputId": "950439a0-fc06-4549-e6e9-bbd9bbf0852e"
      },
      "outputs": [
        {
          "output_type": "execute_result",
          "data": {
            "text/plain": [
              "other                                3\n",
              "Moorabool Shire Council              7\n",
              "Mitchell Shire Council              20\n",
              "Cardinia Shire Council              41\n",
              "Macedon Ranges Shire Council        46\n",
              "Nillumbik Shire Council             88\n",
              "Yarra Ranges Shire Council         102\n",
              "Casey City Council                 176\n",
              "Frankston City Council             290\n",
              "Melton City Council                292\n",
              "Greater Dandenong City Council     314\n",
              "Knox City Council                  371\n",
              "Maroondah City Council             506\n",
              "Whitehorse City Council            618\n",
              "Wyndham City Council               624\n",
              "Whittlesea City Council            828\n",
              "Kingston City Council              871\n",
              "Hobsons Bay City Council           942\n",
              "Manningham City Council           1046\n",
              "Yarra City Council                1186\n",
              "Hume City Council                 1214\n",
              "Port Phillip City Council         1280\n",
              "Maribyrnong City Council          1451\n",
              "Stonnington City Council          1460\n",
              "Monash City Council               1466\n",
              "Brimbank City Council             1593\n",
              "Bayside City Council              1764\n",
              "Moonee Valley City Council        1791\n",
              "Banyule City Council              1861\n",
              "Melbourne City Council            1952\n",
              "Glen Eira City Council            2006\n",
              "Moreland City Council             2122\n",
              "Darebin City Council              2851\n",
              "Boroondara City Council           3675\n",
              "Name: CouncilArea, dtype: int64"
            ]
          },
          "metadata": {},
          "execution_count": 29
        }
      ],
      "source": [
        "# confirm 'other' has been filled for missing values\n",
        "df['CouncilArea'].value_counts(ascending=True)"
      ]
    },
    {
      "cell_type": "code",
      "execution_count": 29,
      "metadata": {
        "id": "6rhSsILLDg9R"
      },
      "outputs": [],
      "source": []
    }
  ],
  "metadata": {
    "kernelspec": {
      "display_name": "Python 3 (ipykernel)",
      "language": "python",
      "name": "python3"
    },
    "language_info": {
      "codemirror_mode": {
        "name": "ipython",
        "version": 3
      },
      "file_extension": ".py",
      "mimetype": "text/x-python",
      "name": "python",
      "nbconvert_exporter": "python",
      "pygments_lexer": "ipython3",
      "version": "3.11.2"
    },
    "colab": {
      "provenance": []
    }
  },
  "nbformat": 4,
  "nbformat_minor": 0
}